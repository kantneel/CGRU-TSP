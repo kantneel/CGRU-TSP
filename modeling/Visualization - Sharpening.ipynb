{
 "cells": [
  {
   "cell_type": "code",
   "execution_count": 3,
   "metadata": {
    "collapsed": true
   },
   "outputs": [],
   "source": [
    "import numpy as np \n",
    "import tensorflow as tf\n",
    "import matplotlib.pyplot as plt"
   ]
  },
  {
   "cell_type": "code",
   "execution_count": 6,
   "metadata": {
    "collapsed": false
   },
   "outputs": [
    {
     "data": {
      "text/plain": [
       "array([ 1.13282265,  1.34301358,  1.02970339,  1.48163987,  1.46834452,\n",
       "        1.34664809,  1.47393373,  1.34139613,  1.10169221,  1.33930607])"
      ]
     },
     "execution_count": 6,
     "metadata": {},
     "output_type": "execute_result"
    }
   ],
   "source": [
    "a = np.ones(10)\n",
    "b = np.random.uniform(0, 0.5, 10)\n",
    "a = a + b\n",
    "a"
   ]
  },
  {
   "cell_type": "code",
   "execution_count": 34,
   "metadata": {
    "collapsed": false
   },
   "outputs": [
    {
     "data": {
      "image/png": "[encoded data removed]",
      "text/plain": [
       "<matplotlib.figure.Figure at 0x110c5fac8>"
      ]
     },
     "metadata": {},
     "output_type": "display_data"
    }
   ],
   "source": [
    "def power_and_norm(x):\n",
    "    for i in range(6):\n",
    "        x = x ** 6\n",
    "        x /= np.sum(x)\n",
    "    return x \n",
    "\n",
    "num_iterations = []\n",
    "failed_in_5 = []\n",
    "\n",
    "for j in range(1000):\n",
    "    i = 0\n",
    "    a = np.ones(10) + np.random.uniform(0, 0.1, 10)\n",
    "    while max(a) < 0.99 or i == 0:\n",
    "        if i == 5:\n",
    "            failed_in_5.append(np.array(a))\n",
    "        i += 1\n",
    "        a = square_and_norm(a)\n",
    "    num_iterations.append(i)\n",
    "    \n",
    "\n",
    "plt.figure(figsize=[10,10])\n",
    "plt.hist(num_iterations)\n",
    "plt.show()\n"
   ]
  },
  {
   "cell_type": "code",
   "execution_count": 18,
   "metadata": {
    "collapsed": true
   },
   "outputs": [],
   "source": [
    "def power_and_norm2(x):\n",
    "    x_c = np.array(x)\n",
    "    x_r = np.transpose(np.array(x))\n",
    "    for i in range(12):\n",
    "        x_r = x_r ** 2\n",
    "        x_r /= np.sum(x_r, axis=0)\n",
    "    for i in range(12):\n",
    "        x_c = x_c ** 2\n",
    "        x_c /= np.sum(x_c, axis=0)\n",
    "    return np.round(x_c + x_r)"
   ]
  },
  {
   "cell_type": "code",
   "execution_count": 11,
   "metadata": {
    "collapsed": false
   },
   "outputs": [
    {
     "data": {
      "text/plain": [
       "array([[ 1.08800795,  1.03764431,  1.06470369,  1.06604272,  1.03396791,\n",
       "         1.08949447,  1.05251521,  1.07629449,  1.01043797,  1.02969717],\n",
       "       [ 1.0414499 ,  1.05876249,  1.04662105,  1.06063722,  1.05709371,\n",
       "         1.06439911,  1.0080961 ,  1.01956005,  1.00951103,  1.02425683],\n",
       "       [ 1.04155751,  1.05751761,  1.0949839 ,  1.02830115,  1.07903028,\n",
       "         1.00550746,  1.01312303,  1.0589792 ,  1.00009614,  1.00661876],\n",
       "       [ 1.07242887,  1.06749662,  1.07101425,  1.04380899,  1.05681422,\n",
       "         1.06102068,  1.02154021,  1.01320412,  1.03092914,  1.09926817],\n",
       "       [ 1.01320082,  1.01645429,  1.06393842,  1.02499205,  1.00491156,\n",
       "         1.09810307,  1.03268553,  1.0557203 ,  1.08945676,  1.05791034],\n",
       "       [ 1.0836021 ,  1.05471782,  1.05807957,  1.06800176,  1.04230658,\n",
       "         1.00387945,  1.02042243,  1.00058693,  1.00615645,  1.02791557],\n",
       "       [ 1.04455689,  1.07012377,  1.03111554,  1.01830481,  1.00654882,\n",
       "         1.01621219,  1.03701257,  1.09223264,  1.09024038,  1.07292071],\n",
       "       [ 1.061203  ,  1.01426195,  1.05859949,  1.02003996,  1.02042927,\n",
       "         1.04394504,  1.0880996 ,  1.04384279,  1.0833309 ,  1.00035001],\n",
       "       [ 1.04259568,  1.0976569 ,  1.08452074,  1.04885905,  1.06804442,\n",
       "         1.05052703,  1.04977755,  1.06499264,  1.08746996,  1.05888031],\n",
       "       [ 1.07224578,  1.07959036,  1.04813368,  1.01400703,  1.0353343 ,\n",
       "         1.06936258,  1.04362592,  1.05274267,  1.08474443,  1.04066799]])"
      ]
     },
     "execution_count": 11,
     "metadata": {},
     "output_type": "execute_result"
    }
   ],
   "source": [
    "x = np.ones((10, 10)) + np.random.uniform(0, 0.1, (10,10))\n",
    "x"
   ]
  },
  {
   "cell_type": "code",
   "execution_count": 19,
   "metadata": {
    "collapsed": false
   },
   "outputs": [
    {
     "data": {
      "text/plain": [
       "array([[ 1.,  0.,  0.,  0.,  0.,  1.,  0.,  0.,  0.,  0.],\n",
       "       [ 0.,  0.,  0.,  0.,  0.,  0.,  0.,  0.,  1.,  0.],\n",
       "       [ 0.,  0.,  2.,  0.,  1.,  0.,  0.,  0.,  0.,  0.],\n",
       "       [ 0.,  0.,  0.,  0.,  0.,  0.,  0.,  0.,  0.,  1.],\n",
       "       [ 0.,  0.,  0.,  0.,  0.,  1.,  0.,  0.,  0.,  0.],\n",
       "       [ 1.,  1.,  0.,  1.,  1.,  0.,  0.,  0.,  0.,  0.],\n",
       "       [ 0.,  0.,  0.,  0.,  0.,  0.,  0.,  2.,  1.,  0.],\n",
       "       [ 0.,  0.,  0.,  0.,  0.,  0.,  2.,  0.,  0.,  0.],\n",
       "       [ 0.,  1.,  0.,  0.,  0.,  0.,  0.,  0.,  0.,  1.],\n",
       "       [ 0.,  0.,  0.,  1.,  0.,  0.,  0.,  0.,  0.,  0.]])"
      ]
     },
     "execution_count": 19,
     "metadata": {},
     "output_type": "execute_result"
    }
   ],
   "source": [
    "power_and_norm2(x)"
   ]
  },
  {
   "cell_type": "code",
   "execution_count": null,
   "metadata": {
    "collapsed": true
   },
   "outputs": [],
   "source": []
  }
 ],
 "metadata": {
  "kernelspec": {
   "display_name": "Python 3",
   "language": "python",
   "name": "python3"
  },
  "language_info": {
   "codemirror_mode": {
    "name": "ipython",
    "version": 3
   },
   "file_extension": ".py",
   "mimetype": "text/x-python",
   "name": "python",
   "nbconvert_exporter": "python",
   "pygments_lexer": "ipython3",
   "version": "3.4.3"
  }
 },
 "nbformat": 4,
 "nbformat_minor": 2
}
